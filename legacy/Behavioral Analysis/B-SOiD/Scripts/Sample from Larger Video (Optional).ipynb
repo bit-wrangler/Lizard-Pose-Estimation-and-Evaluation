{
 "cells": [
  {
   "cell_type": "code",
   "execution_count": null,
   "id": "3531be36",
   "metadata": {},
   "outputs": [],
   "source": [
    "# Imports\n",
    "from moviepy.video.io.ffmpeg_tools import ffmpeg_extract_subclip\n",
    "\n",
    "# Select Input Video\n",
    "input_video = \"0001_vid.mp4\"\n",
    "output_video = \"0001_vid_60secs_e.mp4\"\n",
    "\n",
    "# Select Slice Desired\n",
    "start_time = 240  \n",
    "end_time = 300 \n",
    "\n",
    "# Run\n",
    "ffmpeg_extract_subclip(input_video, start_time, end_time, targetname=output_video)"
   ]
  }
 ],
 "metadata": {
  "kernelspec": {
   "display_name": "Python [conda env:.conda-DEEPLABCUT]",
   "language": "python",
   "name": "conda-env-.conda-DEEPLABCUT-py"
  },
  "language_info": {
   "codemirror_mode": {
    "name": "ipython",
    "version": 3
   },
   "file_extension": ".py",
   "mimetype": "text/x-python",
   "name": "python",
   "nbconvert_exporter": "python",
   "pygments_lexer": "ipython3",
   "version": "3.10.15"
  }
 },
 "nbformat": 4,
 "nbformat_minor": 5
}
